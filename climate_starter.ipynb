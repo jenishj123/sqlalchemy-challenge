{
 "cells": [
  {
   "cell_type": "code",
   "execution_count": 10,
   "metadata": {},
   "outputs": [],
   "source": [
    "%matplotlib inline\n",
    "from matplotlib import style\n",
    "style.use('fivethirtyeight')\n",
    "import matplotlib.pyplot as plt"
   ]
  },
  {
   "cell_type": "code",
   "execution_count": 11,
   "metadata": {},
   "outputs": [],
   "source": [
    "import numpy as np\n",
    "import pandas as pd\n",
    "import datetime as dt\n",
    "from datetime import datetime, time"
   ]
  },
  {
   "cell_type": "markdown",
   "metadata": {},
   "source": [
    "# Reflect Tables into SQLAlchemy ORM"
   ]
  },
  {
   "cell_type": "code",
   "execution_count": 12,
   "metadata": {},
   "outputs": [],
   "source": [
    "# Python SQL toolkit and Object Relational Mapper\n",
    "import sqlalchemy\n",
    "from sqlalchemy.ext.automap import automap_base\n",
    "from sqlalchemy.orm import Session\n",
    "from sqlalchemy import create_engine, func,inspect"
   ]
  },
  {
   "cell_type": "code",
   "execution_count": 13,
   "metadata": {},
   "outputs": [
    {
     "data": {
      "text/plain": [
       "Engine(sqlite:///resources/hawaii.sqlite)"
      ]
     },
     "execution_count": 13,
     "metadata": {},
     "output_type": "execute_result"
    }
   ],
   "source": [
    "# create engine to hawaii.sqlite\n",
    "engine = create_engine(\"sqlite:///resources/hawaii.sqlite\")\n",
    "\n",
    "engine"
   ]
  },
  {
   "cell_type": "code",
   "execution_count": 14,
   "metadata": {},
   "outputs": [],
   "source": [
    "# reflect an existing database into a new model\n",
    "Base = automap_base()\n",
    "Base.prepare(engine, reflect=True)\n",
    "# reflect the tables\n"
   ]
  },
  {
   "cell_type": "code",
   "execution_count": 15,
   "metadata": {},
   "outputs": [
    {
     "data": {
      "text/plain": [
       "['measurement', 'station']"
      ]
     },
     "execution_count": 15,
     "metadata": {},
     "output_type": "execute_result"
    }
   ],
   "source": [
    "# View all of the classes that automap found\n",
    "Base.classes.keys()\n"
   ]
  },
  {
   "cell_type": "code",
   "execution_count": 16,
   "metadata": {},
   "outputs": [],
   "source": [
    "# Save references to each table\n",
    "Measurement = Base.classes.measurement\n",
    "Station = Base.classes.station\n"
   ]
  },
  {
   "cell_type": "code",
   "execution_count": 17,
   "metadata": {},
   "outputs": [
    {
     "data": {
      "text/plain": [
       "['measurement', 'station']"
      ]
     },
     "execution_count": 17,
     "metadata": {},
     "output_type": "execute_result"
    }
   ],
   "source": [
    "inspector = inspect(engine)\n",
    "inspector.get_table_names()"
   ]
  },
  {
   "cell_type": "code",
   "execution_count": 18,
   "metadata": {},
   "outputs": [
    {
     "name": "stdout",
     "output_type": "stream",
     "text": [
      "id INTEGER\n",
      "station TEXT\n",
      "date TEXT\n",
      "prcp FLOAT\n",
      "tobs FLOAT\n"
     ]
    }
   ],
   "source": [
    "# Get a list of column names and types\n",
    "columns = inspector.get_columns('measurement')\n",
    "for c in columns:\n",
    "    print(c['name'], c[\"type\"])\n",
    "# columns"
   ]
  },
  {
   "cell_type": "code",
   "execution_count": 19,
   "metadata": {},
   "outputs": [
    {
     "name": "stdout",
     "output_type": "stream",
     "text": [
      "id INTEGER\n",
      "station TEXT\n",
      "name TEXT\n",
      "latitude FLOAT\n",
      "longitude FLOAT\n",
      "elevation FLOAT\n"
     ]
    }
   ],
   "source": [
    "# Get a list of column names and types\n",
    "columns = inspector.get_columns('station')\n",
    "for c in columns:\n",
    "    print(c['name'], c[\"type\"])\n",
    "# columns"
   ]
  },
  {
   "cell_type": "code",
   "execution_count": 20,
   "metadata": {},
   "outputs": [],
   "source": [
    "# Create our session (link) from Python to the DB\n",
    "session = Session(engine)"
   ]
  },
  {
   "cell_type": "markdown",
   "metadata": {},
   "source": [
    "# Exploratory Precipitation Analysis"
   ]
  },
  {
   "cell_type": "code",
   "execution_count": 31,
   "metadata": {},
   "outputs": [
    {
     "data": {
      "text/plain": [
       "('2017-08-23')"
      ]
     },
     "execution_count": 31,
     "metadata": {},
     "output_type": "execute_result"
    }
   ],
   "source": [
    "session.query(Measurement.date).order_by(Measurement.date.desc()).first()"
   ]
  },
  {
   "cell_type": "code",
   "execution_count": 40,
   "metadata": {},
   "outputs": [],
   "source": [
    "# Find the most recent date in the data set.\n",
    "\n",
    "def recent_date(date_str):\n",
    "    new_date = dt.datetime.strptime(date_str,'%Y-%m-%d') - dt.timedelta(days=365)\n",
    "    return new_date"
   ]
  },
  {
   "cell_type": "code",
   "execution_count": 41,
   "metadata": {},
   "outputs": [
    {
     "name": "stdout",
     "output_type": "stream",
     "text": [
      "Query Date:  2016-08-23\n"
     ]
    }
   ],
   "source": [
    "# Calculate the date one year from the last date in data set.\n",
    "\n",
    "recent_date = dt.date(2017, 8, 23) - dt.timedelta(days=365)\n",
    "print(\"Query Date: \", recent_date)"
   ]
  },
  {
   "cell_type": "code",
   "execution_count": 63,
   "metadata": {},
   "outputs": [
    {
     "data": {
      "text/plain": [
       "Text(0, 0.5, 'Inches')"
      ]
     },
     "execution_count": 63,
     "metadata": {},
     "output_type": "execute_result"
    },
    {
     "data": {
      "image/png": "[encoded data removed]",
      "text/plain": [
       "<Figure size 432x288 with 1 Axes>"
      ]
     },
     "metadata": {},
     "output_type": "display_data"
    }
   ],
   "source": [
    "# Design a query to retrieve the last 12 months of precipitation data and plot the results. \n",
    "# Starting from the most recent data point in the database. \n",
    "\n",
    "# Perform a query to retrieve the data and precipitation scores\n",
    "\n",
    "output = session.query(Measurement.date, Measurement.prcp).filter(Measurement.date >= recent_date).all()\n",
    "\n",
    "\n",
    "# Save the query results as a Pandas DataFrame and set the index to the date column\n",
    "date_column_df = pd.DataFrame(output, columns=['date', 'precp'])\n",
    "date_column_df.set_index(\"date\", inplace=True)\n",
    "\n",
    "# Sort the dataframe by date\n",
    "date_column_df = date_column_df.sort_values(\"date\")\n",
    "\n",
    "\n",
    "# Use Pandas Plotting with Matplotlib to plot the data\n",
    "\n",
    "date_column_df.plot(rot = 90)\n",
    "\n",
    "plt.ylabel(\"Inches\")\n"
   ]
  },
  {
   "cell_type": "code",
   "execution_count": 52,
   "metadata": {},
   "outputs": [
    {
     "data": {
      "text/html": [
       "<div>\n",
       "<style scoped>\n",
       "    .dataframe tbody tr th:only-of-type {\n",
       "        vertical-align: middle;\n",
       "    }\n",
       "\n",
       "    .dataframe tbody tr th {\n",
       "        vertical-align: top;\n",
       "    }\n",
       "\n",
       "    .dataframe thead th {\n",
       "        text-align: right;\n",
       "    }\n",
       "</style>\n",
       "<table border=\"1\" class=\"dataframe\">\n",
       "  <thead>\n",
       "    <tr style=\"text-align: right;\">\n",
       "      <th></th>\n",
       "      <th>precp</th>\n",
       "    </tr>\n",
       "  </thead>\n",
       "  <tbody>\n",
       "    <tr>\n",
       "      <th>count</th>\n",
       "      <td>2021.000000</td>\n",
       "    </tr>\n",
       "    <tr>\n",
       "      <th>mean</th>\n",
       "      <td>0.177279</td>\n",
       "    </tr>\n",
       "    <tr>\n",
       "      <th>std</th>\n",
       "      <td>0.461190</td>\n",
       "    </tr>\n",
       "    <tr>\n",
       "      <th>min</th>\n",
       "      <td>0.000000</td>\n",
       "    </tr>\n",
       "    <tr>\n",
       "      <th>25%</th>\n",
       "      <td>0.000000</td>\n",
       "    </tr>\n",
       "    <tr>\n",
       "      <th>50%</th>\n",
       "      <td>0.020000</td>\n",
       "    </tr>\n",
       "    <tr>\n",
       "      <th>75%</th>\n",
       "      <td>0.130000</td>\n",
       "    </tr>\n",
       "    <tr>\n",
       "      <th>max</th>\n",
       "      <td>6.700000</td>\n",
       "    </tr>\n",
       "  </tbody>\n",
       "</table>\n",
       "</div>"
      ],
      "text/plain": [
       "             precp\n",
       "count  2021.000000\n",
       "mean      0.177279\n",
       "std       0.461190\n",
       "min       0.000000\n",
       "25%       0.000000\n",
       "50%       0.020000\n",
       "75%       0.130000\n",
       "max       6.700000"
      ]
     },
     "execution_count": 52,
     "metadata": {},
     "output_type": "execute_result"
    }
   ],
   "source": [
    "# Use Pandas to calcualte the summary statistics for the precipitation data\n",
    "date_column_df.describe()"
   ]
  },
  {
   "cell_type": "markdown",
   "metadata": {},
   "source": [
    "# Exploratory Station Analysis"
   ]
  },
  {
   "cell_type": "code",
   "execution_count": 54,
   "metadata": {},
   "outputs": [
    {
     "data": {
      "text/plain": [
       "[(9)]"
      ]
     },
     "execution_count": 54,
     "metadata": {},
     "output_type": "execute_result"
    }
   ],
   "source": [
    "# Design a query to calculate the total number stations in the dataset\n",
    "number_stations = session.query(func.count(Station.station)).all()\n",
    "number_stations"
   ]
  },
  {
   "cell_type": "code",
   "execution_count": 56,
   "metadata": {},
   "outputs": [
    {
     "data": {
      "text/plain": [
       "[('USC00519281', 2772),\n",
       " ('USC00519397', 2724),\n",
       " ('USC00513117', 2709),\n",
       " ('USC00519523', 2669),\n",
       " ('USC00516128', 2612),\n",
       " ('USC00514830', 2202),\n",
       " ('USC00511918', 1979),\n",
       " ('USC00517948', 1372),\n",
       " ('USC00518838', 511)]"
      ]
     },
     "execution_count": 56,
     "metadata": {},
     "output_type": "execute_result"
    }
   ],
   "source": [
    "# Design a query to find the most active stations (i.e. what stations have the most rows?)\n",
    "# List the stations and the counts in descending order.\n",
    "station_counts = session.query(Measurement.station, func.count(Measurement.station)).group_by(Measurement.station).order_by(func.count(Measurement.station).desc()).all()\n",
    "station_counts"
   ]
  },
  {
   "cell_type": "code",
   "execution_count": 57,
   "metadata": {},
   "outputs": [
    {
     "data": {
      "text/plain": [
       "[(54.0, 85.0, 71.66378066378067)]"
      ]
     },
     "execution_count": 57,
     "metadata": {},
     "output_type": "execute_result"
    }
   ],
   "source": [
    "# Using the most active station id from the previous query, calculate the lowest, highest, and average temperature.\n",
    "session.query(func.min(Measurement.tobs), func.max(Measurement.tobs), func.avg(Measurement.tobs)).\\\n",
    "filter(Measurement.station == \"USC00519281\").all()"
   ]
  },
  {
   "cell_type": "code",
   "execution_count": 60,
   "metadata": {},
   "outputs": [
    {
     "data": {
      "text/plain": [
       "[(77.0),\n",
       " (77.0),\n",
       " (80.0),\n",
       " (80.0),\n",
       " (75.0),\n",
       " (73.0),\n",
       " (78.0),\n",
       " (77.0),\n",
       " (78.0),\n",
       " (80.0),\n",
       " (80.0),\n",
       " (78.0),\n",
       " (78.0),\n",
       " (78.0),\n",
       " (73.0),\n",
       " (74.0),\n",
       " (80.0),\n",
       " (79.0),\n",
       " (77.0),\n",
       " (80.0),\n",
       " (76.0),\n",
       " (79.0),\n",
       " (75.0),\n",
       " (79.0),\n",
       " (78.0),\n",
       " (79.0),\n",
       " (78.0),\n",
       " (78.0),\n",
       " (76.0),\n",
       " (74.0),\n",
       " (77.0),\n",
       " (78.0),\n",
       " (79.0),\n",
       " (79.0),\n",
       " (77.0),\n",
       " (80.0),\n",
       " (78.0),\n",
       " (78.0),\n",
       " (78.0),\n",
       " (77.0),\n",
       " (79.0),\n",
       " (79.0),\n",
       " (79.0),\n",
       " (79.0),\n",
       " (75.0),\n",
       " (76.0),\n",
       " (73.0),\n",
       " (72.0),\n",
       " (71.0),\n",
       " (77.0),\n",
       " (79.0),\n",
       " (78.0),\n",
       " (79.0),\n",
       " (77.0),\n",
       " (79.0),\n",
       " (77.0),\n",
       " (78.0),\n",
       " (78.0),\n",
       " (78.0),\n",
       " (78.0),\n",
       " (77.0),\n",
       " (74.0),\n",
       " (75.0),\n",
       " (76.0),\n",
       " (73.0),\n",
       " (76.0),\n",
       " (74.0),\n",
       " (77.0),\n",
       " (76.0),\n",
       " (76.0),\n",
       " (74.0),\n",
       " (75.0),\n",
       " (75.0),\n",
       " (75.0),\n",
       " (75.0),\n",
       " (71.0),\n",
       " (63.0),\n",
       " (70.0),\n",
       " (68.0),\n",
       " (67.0),\n",
       " (77.0),\n",
       " (74.0),\n",
       " (77.0),\n",
       " (76.0),\n",
       " (76.0),\n",
       " (75.0),\n",
       " (76.0),\n",
       " (75.0),\n",
       " (73.0),\n",
       " (75.0),\n",
       " (73.0),\n",
       " (75.0),\n",
       " (74.0),\n",
       " (75.0),\n",
       " (74.0),\n",
       " (75.0),\n",
       " (73.0),\n",
       " (75.0),\n",
       " (73.0),\n",
       " (73.0),\n",
       " (74.0),\n",
       " (70.0),\n",
       " (72.0),\n",
       " (70.0),\n",
       " (67.0),\n",
       " (67.0),\n",
       " (69.0),\n",
       " (70.0),\n",
       " (68.0),\n",
       " (69.0),\n",
       " (69.0),\n",
       " (66.0),\n",
       " (65.0),\n",
       " (68.0),\n",
       " (62.0),\n",
       " (75.0),\n",
       " (70.0),\n",
       " (69.0),\n",
       " (76.0),\n",
       " (76.0),\n",
       " (74.0),\n",
       " (73.0),\n",
       " (71.0),\n",
       " (74.0),\n",
       " (74.0),\n",
       " (72.0),\n",
       " (71.0),\n",
       " (72.0),\n",
       " (74.0),\n",
       " (69.0),\n",
       " (67.0),\n",
       " (72.0),\n",
       " (70.0),\n",
       " (64.0),\n",
       " (63.0),\n",
       " (63.0),\n",
       " (62.0),\n",
       " (70.0),\n",
       " (70.0),\n",
       " (62.0),\n",
       " (62.0),\n",
       " (63.0),\n",
       " (65.0),\n",
       " (69.0),\n",
       " (77.0),\n",
       " (70.0),\n",
       " (74.0),\n",
       " (69.0),\n",
       " (72.0),\n",
       " (71.0),\n",
       " (69.0),\n",
       " (71.0),\n",
       " (71.0),\n",
       " (72.0),\n",
       " (72.0),\n",
       " (69.0),\n",
       " (70.0),\n",
       " (66.0),\n",
       " (65.0),\n",
       " (69.0),\n",
       " (68.0),\n",
       " (68.0),\n",
       " (68.0),\n",
       " (59.0),\n",
       " (60.0),\n",
       " (70.0),\n",
       " (73.0),\n",
       " (75.0),\n",
       " (64.0),\n",
       " (59.0),\n",
       " (59.0),\n",
       " (62.0),\n",
       " (68.0),\n",
       " (70.0),\n",
       " (73.0),\n",
       " (79.0),\n",
       " (75.0),\n",
       " (65.0),\n",
       " (70.0),\n",
       " (74.0),\n",
       " (70.0),\n",
       " (70.0),\n",
       " (71.0),\n",
       " (71.0),\n",
       " (71.0),\n",
       " (69.0),\n",
       " (61.0),\n",
       " (67.0),\n",
       " (65.0),\n",
       " (72.0),\n",
       " (71.0),\n",
       " (73.0),\n",
       " (72.0),\n",
       " (77.0),\n",
       " (73.0),\n",
       " (67.0),\n",
       " (62.0),\n",
       " (64.0),\n",
       " (67.0),\n",
       " (66.0),\n",
       " (81.0),\n",
       " (69.0),\n",
       " (66.0),\n",
       " (67.0),\n",
       " (69.0),\n",
       " (66.0),\n",
       " (68.0),\n",
       " (65.0),\n",
       " (74.0),\n",
       " (69.0),\n",
       " (72.0),\n",
       " (73.0),\n",
       " (72.0),\n",
       " (71.0),\n",
       " (76.0),\n",
       " (77.0),\n",
       " (76.0),\n",
       " (74.0),\n",
       " (68.0),\n",
       " (73.0),\n",
       " (71.0),\n",
       " (74.0),\n",
       " (75.0),\n",
       " (70.0),\n",
       " (67.0),\n",
       " (71.0),\n",
       " (67.0),\n",
       " (74.0),\n",
       " (77.0),\n",
       " (78.0),\n",
       " (67.0),\n",
       " (70.0),\n",
       " (69.0),\n",
       " (69.0),\n",
       " (74.0),\n",
       " (78.0),\n",
       " (71.0),\n",
       " (67.0),\n",
       " (68.0),\n",
       " (67.0),\n",
       " (76.0),\n",
       " (69.0),\n",
       " (72.0),\n",
       " (76.0),\n",
       " (68.0),\n",
       " (72.0),\n",
       " (74.0),\n",
       " (70.0),\n",
       " (67.0),\n",
       " (72.0),\n",
       " (60.0),\n",
       " (65.0),\n",
       " (75.0),\n",
       " (70.0),\n",
       " (75.0),\n",
       " (70.0),\n",
       " (79.0),\n",
       " (75.0),\n",
       " (70.0),\n",
       " (67.0),\n",
       " (74.0),\n",
       " (70.0),\n",
       " (75.0),\n",
       " (76.0),\n",
       " (77.0),\n",
       " (74.0),\n",
       " (74.0),\n",
       " (74.0),\n",
       " (69.0),\n",
       " (68.0),\n",
       " (76.0),\n",
       " (74.0),\n",
       " (71.0),\n",
       " (71.0),\n",
       " (74.0),\n",
       " (74.0),\n",
       " (74.0),\n",
       " (74.0),\n",
       " (80.0),\n",
       " (74.0),\n",
       " (72.0),\n",
       " (75.0),\n",
       " (80.0),\n",
       " (76.0),\n",
       " (76.0),\n",
       " (77.0),\n",
       " (75.0),\n",
       " (75.0),\n",
       " (75.0),\n",
       " (75.0),\n",
       " (72.0),\n",
       " (74.0),\n",
       " (74.0),\n",
       " (74.0),\n",
       " (76.0),\n",
       " (74.0),\n",
       " (75.0),\n",
       " (73.0),\n",
       " (79.0),\n",
       " (75.0),\n",
       " (72.0),\n",
       " (72.0),\n",
       " (74.0),\n",
       " (72.0),\n",
       " (72.0),\n",
       " (77.0),\n",
       " (71.0),\n",
       " (73.0),\n",
       " (76.0),\n",
       " (77.0),\n",
       " (76.0),\n",
       " (76.0),\n",
       " (79.0),\n",
       " (81.0),\n",
       " (76.0),\n",
       " (78.0),\n",
       " (77.0),\n",
       " (74.0),\n",
       " (75.0),\n",
       " (78.0),\n",
       " (78.0),\n",
       " (69.0),\n",
       " (72.0),\n",
       " (74.0),\n",
       " (74.0),\n",
       " (76.0),\n",
       " (80.0),\n",
       " (80.0),\n",
       " (76.0),\n",
       " (76.0),\n",
       " (76.0),\n",
       " (77.0),\n",
       " (77.0),\n",
       " (77.0),\n",
       " (82.0),\n",
       " (75.0),\n",
       " (77.0),\n",
       " (75.0),\n",
       " (76.0),\n",
       " (81.0),\n",
       " (82.0),\n",
       " (81.0),\n",
       " (76.0),\n",
       " (77.0),\n",
       " (82.0),\n",
       " (83.0),\n",
       " (77.0),\n",
       " (77.0),\n",
       " (77.0),\n",
       " (76.0),\n",
       " (76.0),\n",
       " (79.0)]"
      ]
     },
     "execution_count": 60,
     "metadata": {},
     "output_type": "execute_result"
    }
   ],
   "source": [
    "# Using the most active station id\n",
    "# Query the last 12 months of temperature observation data for this station and plot the results as a histogram\n",
    "most_temp_obs = session.query(Measurement.tobs).\\\n",
    "    filter(Measurement.station == \"USC00519281\").filter(Measurement.date >= recent_date).all()\n",
    "most_temp_obs"
   ]
  },
  {
   "cell_type": "code",
   "execution_count": 61,
   "metadata": {},
   "outputs": [
    {
     "data": {
      "text/html": [
       "<div>\n",
       "<style scoped>\n",
       "    .dataframe tbody tr th:only-of-type {\n",
       "        vertical-align: middle;\n",
       "    }\n",
       "\n",
       "    .dataframe tbody tr th {\n",
       "        vertical-align: top;\n",
       "    }\n",
       "\n",
       "    .dataframe thead th {\n",
       "        text-align: right;\n",
       "    }\n",
       "</style>\n",
       "<table border=\"1\" class=\"dataframe\">\n",
       "  <thead>\n",
       "    <tr style=\"text-align: right;\">\n",
       "      <th></th>\n",
       "      <th>tobs</th>\n",
       "    </tr>\n",
       "  </thead>\n",
       "  <tbody>\n",
       "    <tr>\n",
       "      <th>0</th>\n",
       "      <td>77.0</td>\n",
       "    </tr>\n",
       "    <tr>\n",
       "      <th>1</th>\n",
       "      <td>77.0</td>\n",
       "    </tr>\n",
       "    <tr>\n",
       "      <th>2</th>\n",
       "      <td>80.0</td>\n",
       "    </tr>\n",
       "    <tr>\n",
       "      <th>3</th>\n",
       "      <td>80.0</td>\n",
       "    </tr>\n",
       "    <tr>\n",
       "      <th>4</th>\n",
       "      <td>75.0</td>\n",
       "    </tr>\n",
       "    <tr>\n",
       "      <th>5</th>\n",
       "      <td>73.0</td>\n",
       "    </tr>\n",
       "    <tr>\n",
       "      <th>6</th>\n",
       "      <td>78.0</td>\n",
       "    </tr>\n",
       "    <tr>\n",
       "      <th>7</th>\n",
       "      <td>77.0</td>\n",
       "    </tr>\n",
       "    <tr>\n",
       "      <th>8</th>\n",
       "      <td>78.0</td>\n",
       "    </tr>\n",
       "    <tr>\n",
       "      <th>9</th>\n",
       "      <td>80.0</td>\n",
       "    </tr>\n",
       "    <tr>\n",
       "      <th>10</th>\n",
       "      <td>80.0</td>\n",
       "    </tr>\n",
       "    <tr>\n",
       "      <th>11</th>\n",
       "      <td>78.0</td>\n",
       "    </tr>\n",
       "    <tr>\n",
       "      <th>12</th>\n",
       "      <td>78.0</td>\n",
       "    </tr>\n",
       "    <tr>\n",
       "      <th>13</th>\n",
       "      <td>78.0</td>\n",
       "    </tr>\n",
       "    <tr>\n",
       "      <th>14</th>\n",
       "      <td>73.0</td>\n",
       "    </tr>\n",
       "    <tr>\n",
       "      <th>15</th>\n",
       "      <td>74.0</td>\n",
       "    </tr>\n",
       "    <tr>\n",
       "      <th>16</th>\n",
       "      <td>80.0</td>\n",
       "    </tr>\n",
       "    <tr>\n",
       "      <th>17</th>\n",
       "      <td>79.0</td>\n",
       "    </tr>\n",
       "    <tr>\n",
       "      <th>18</th>\n",
       "      <td>77.0</td>\n",
       "    </tr>\n",
       "    <tr>\n",
       "      <th>19</th>\n",
       "      <td>80.0</td>\n",
       "    </tr>\n",
       "  </tbody>\n",
       "</table>\n",
       "</div>"
      ],
      "text/plain": [
       "    tobs\n",
       "0   77.0\n",
       "1   77.0\n",
       "2   80.0\n",
       "3   80.0\n",
       "4   75.0\n",
       "5   73.0\n",
       "6   78.0\n",
       "7   77.0\n",
       "8   78.0\n",
       "9   80.0\n",
       "10  80.0\n",
       "11  78.0\n",
       "12  78.0\n",
       "13  78.0\n",
       "14  73.0\n",
       "15  74.0\n",
       "16  80.0\n",
       "17  79.0\n",
       "18  77.0\n",
       "19  80.0"
      ]
     },
     "execution_count": 61,
     "metadata": {},
     "output_type": "execute_result"
    }
   ],
   "source": [
    "most_temp_obs_df = pd.DataFrame(most_temp_obs, columns=['tobs'])\n",
    "most_temp_obs_df.head(20)"
   ]
  },
  {
   "cell_type": "code",
   "execution_count": 64,
   "metadata": {},
   "outputs": [
    {
     "data": {
      "text/plain": [
       "Text(0.5, 0, 'tobs')"
      ]
     },
     "execution_count": 64,
     "metadata": {},
     "output_type": "execute_result"
    },
    {
     "data": {
      "image/png": "[encoded data removed]",
      "text/plain": [
       "<Figure size 432x288 with 1 Axes>"
      ]
     },
     "metadata": {},
     "output_type": "display_data"
    }
   ],
   "source": [
    "most_temp_obs_df.plot.hist()\n",
    "plt.xlabel(\"tobs\")"
   ]
  },
  {
   "cell_type": "markdown",
   "metadata": {},
   "source": [
    "# Close session"
   ]
  },
  {
   "cell_type": "code",
   "execution_count": null,
   "metadata": {},
   "outputs": [],
   "source": [
    "# Close Session\n",
    "session.close()"
   ]
  },
  {
   "cell_type": "code",
   "execution_count": null,
   "metadata": {},
   "outputs": [],
   "source": []
  }
 ],
 "metadata": {
  "anaconda-cloud": {},
  "kernel_info": {
   "name": "python3"
  },
  "kernelspec": {
   "display_name": "Python 3",
   "language": "python",
   "name": "python3"
  },
  "language_info": {
   "codemirror_mode": {
    "name": "ipython",
    "version": 3
   },
   "file_extension": ".py",
   "mimetype": "text/x-python",
   "name": "python",
   "nbconvert_exporter": "python",
   "pygments_lexer": "ipython3",
   "version": "3.6.12"
  },
  "nteract": {
   "version": "0.12.3"
  },
  "varInspector": {
   "cols": {
    "lenName": 16,
    "lenType": 16,
    "lenVar": 40
   },
   "kernels_config": {
    "python": {
     "delete_cmd_postfix": "",
     "delete_cmd_prefix": "del ",
     "library": "var_list.py",
     "varRefreshCmd": "print(var_dic_list())"
    },
    "r": {
     "delete_cmd_postfix": ") ",
     "delete_cmd_prefix": "rm(",
     "library": "var_list.r",
     "varRefreshCmd": "cat(var_dic_list()) "
    }
   },
   "types_to_exclude": [
    "module",
    "function",
    "builtin_function_or_method",
    "instance",
    "_Feature"
   ],
   "window_display": false
  }
 },
 "nbformat": 4,
 "nbformat_minor": 2
}
